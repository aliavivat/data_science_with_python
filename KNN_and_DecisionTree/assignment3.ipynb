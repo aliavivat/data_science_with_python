{
 "cells": [
  {
   "cell_type": "markdown",
   "metadata": {},
   "source": [
    "\n",
    "# Assignment 3: Code for data modelling presentation\n",
    "\n",
    "Prepared by Aliia Gismatullina s4051304"
   ]
  },
  {
   "cell_type": "markdown",
   "metadata": {},
   "source": [
    "## Table of contents \n",
    "\n",
    "1 - Preparation of raw data\n",
    "\n",
    "    1.1 - Loading the libraries\n",
    "    1.2 - Data retrieval\n",
    "    1.3 - Data cleaning\n",
    "\n",
    "2 - Exploratory data analysis\n",
    "\n",
    "    2.1 - Balanced / imbalanced data\n",
    "    2.2 - Count Vectorizor    \n",
    "    2.3 - Common words for spam and ham\n",
    "    \n",
    "3 - Data Modelling (KNN Classifier)\n",
    "\n",
    "    3.1 - Model training (SMOTE)    \n",
    "    3.2 - Machine learning process    \n",
    "    3.3 - Model evaluation \n",
    "    \n",
    "4 - Data Modelling (Decision Tree Classifier)\n",
    "\n",
    "    4.1 - Model training (SMOTE)    \n",
    "    4.2 - Machine learning process    \n",
    "    4.3 - Model evaluation     \n",
    "    \n",
    "5 - Results of the classifiers    "
   ]
  },
  {
   "cell_type": "markdown",
   "metadata": {},
   "source": [
    "## 1 Preparation of raw data\n",
    "\n",
    "### 1.1 Loading the libraries"
   ]
  },
  {
   "cell_type": "code",
   "execution_count": 1,
   "metadata": {},
   "outputs": [],
   "source": [
    "import os\n",
    "\n",
    "import io\n",
    "\n",
    "import ast\n",
    "\n",
    "import pandas as pd \n",
    "\n",
    "from sklearn.feature_extraction.text import CountVectorizer \n",
    "\n",
    "from sklearn.neighbors import KNeighborsClassifier \n",
    "\n",
    "from sklearn.tree import DecisionTreeClassifier \n",
    "\n",
    "from sklearn.model_selection import train_test_split \n",
    "\n",
    "from sklearn.model_selection import GridSearchCV \n",
    "\n",
    "from sklearn.metrics import accuracy_score,balanced_accuracy_score,confusion_matrix, ConfusionMatrixDisplay \n",
    "\n",
    "from sklearn.metrics import classification_report\n",
    "\n",
    "from imblearn.over_sampling import SMOTE \n",
    "\n",
    "import ssl\n",
    "\n",
    "import nltk \n",
    "\n",
    "from nltk.corpus import stopwords \n",
    "\n",
    "from nltk.tokenize import word_tokenize\n",
    "\n",
    "import matplotlib.pyplot as plt\n",
    "\n",
    "import seaborn as sns\n",
    "\n",
    "from time import time"
   ]
  },
  {
   "cell_type": "markdown",
   "metadata": {},
   "source": [
    "### 1.2 Data retrieval"
   ]
  },
  {
   "cell_type": "code",
   "execution_count": 2,
   "metadata": {},
   "outputs": [
    {
     "data": {
      "text/html": [
       "<div>\n",
       "<style scoped>\n",
       "    .dataframe tbody tr th:only-of-type {\n",
       "        vertical-align: middle;\n",
       "    }\n",
       "\n",
       "    .dataframe tbody tr th {\n",
       "        vertical-align: top;\n",
       "    }\n",
       "\n",
       "    .dataframe thead th {\n",
       "        text-align: right;\n",
       "    }\n",
       "</style>\n",
       "<table border=\"1\" class=\"dataframe\">\n",
       "  <thead>\n",
       "    <tr style=\"text-align: right;\">\n",
       "      <th></th>\n",
       "      <th>Unnamed: 0</th>\n",
       "      <th>sms</th>\n",
       "      <th>spam</th>\n",
       "      <th>Unnamed: 3</th>\n",
       "    </tr>\n",
       "  </thead>\n",
       "  <tbody>\n",
       "    <tr>\n",
       "      <th>0</th>\n",
       "      <td>0</td>\n",
       "      <td>1. Tension face 2. Smiling face 3. Waste face ...</td>\n",
       "      <td>False</td>\n",
       "      <td>NaN</td>\n",
       "    </tr>\n",
       "    <tr>\n",
       "      <th>1</th>\n",
       "      <td>1</td>\n",
       "      <td>Hhahhaahahah rofl was leonardo in your room or...</td>\n",
       "      <td>False</td>\n",
       "      <td>NaN</td>\n",
       "    </tr>\n",
       "    <tr>\n",
       "      <th>2</th>\n",
       "      <td>4</td>\n",
       "      <td>Oh for  sake she's in like</td>\n",
       "      <td>False</td>\n",
       "      <td>NaN</td>\n",
       "    </tr>\n",
       "    <tr>\n",
       "      <th>3</th>\n",
       "      <td>5</td>\n",
       "      <td>No da:)he is stupid da..always sending like th...</td>\n",
       "      <td>False</td>\n",
       "      <td>NaN</td>\n",
       "    </tr>\n",
       "    <tr>\n",
       "      <th>4</th>\n",
       "      <td>6</td>\n",
       "      <td>Lul im gettin some juicy gossip at the hospita...</td>\n",
       "      <td>False</td>\n",
       "      <td>NaN</td>\n",
       "    </tr>\n",
       "  </tbody>\n",
       "</table>\n",
       "</div>"
      ],
      "text/plain": [
       "   Unnamed: 0                                                sms   spam  \\\n",
       "0           0  1. Tension face 2. Smiling face 3. Waste face ...  False   \n",
       "1           1  Hhahhaahahah rofl was leonardo in your room or...  False   \n",
       "2           4                        Oh for  sake she's in like   False   \n",
       "3           5  No da:)he is stupid da..always sending like th...  False   \n",
       "4           6  Lul im gettin some juicy gossip at the hospita...  False   \n",
       "\n",
       "  Unnamed: 3  \n",
       "0        NaN  \n",
       "1        NaN  \n",
       "2        NaN  \n",
       "3        NaN  \n",
       "4        NaN  "
      ]
     },
     "execution_count": 2,
     "metadata": {},
     "output_type": "execute_result"
    }
   ],
   "source": [
    "# Loading the dataset\n",
    "file_path = 'A3_sms.csv'\n",
    "sms_data = pd.read_csv(file_path)\n",
    "\n",
    "# Displaying the first few rows of the dataset to understand its structure and contents\n",
    "sms_data.head()"
   ]
  },
  {
   "cell_type": "markdown",
   "metadata": {},
   "source": [
    "### 1.3 Data cleaning"
   ]
  },
  {
   "cell_type": "code",
   "execution_count": 3,
   "metadata": {
    "scrolled": true
   },
   "outputs": [
    {
     "name": "stderr",
     "output_type": "stream",
     "text": [
      "[nltk_data] Downloading package punkt to\n",
      "[nltk_data]     /Users/aliiagismatullina/nltk_data...\n",
      "[nltk_data]   Package punkt is already up-to-date!\n",
      "[nltk_data] Downloading package stopwords to\n",
      "[nltk_data]     /Users/aliiagismatullina/nltk_data...\n",
      "[nltk_data]   Package stopwords is already up-to-date!\n"
     ]
    },
    {
     "data": {
      "text/html": [
       "<div>\n",
       "<style scoped>\n",
       "    .dataframe tbody tr th:only-of-type {\n",
       "        vertical-align: middle;\n",
       "    }\n",
       "\n",
       "    .dataframe tbody tr th {\n",
       "        vertical-align: top;\n",
       "    }\n",
       "\n",
       "    .dataframe thead th {\n",
       "        text-align: right;\n",
       "    }\n",
       "</style>\n",
       "<table border=\"1\" class=\"dataframe\">\n",
       "  <thead>\n",
       "    <tr style=\"text-align: right;\">\n",
       "      <th></th>\n",
       "      <th>sms</th>\n",
       "      <th>sms_processed</th>\n",
       "      <th>tokens</th>\n",
       "    </tr>\n",
       "  </thead>\n",
       "  <tbody>\n",
       "    <tr>\n",
       "      <th>0</th>\n",
       "      <td>1. Tension face 2. Smiling face 3. Waste face ...</td>\n",
       "      <td>1 tension face 2 smiling face 3 waste face 4 i...</td>\n",
       "      <td>[1, tension, face, 2, smiling, face, 3, waste,...</td>\n",
       "    </tr>\n",
       "    <tr>\n",
       "      <th>1</th>\n",
       "      <td>Hhahhaahahah rofl was leonardo in your room or...</td>\n",
       "      <td>hhahhaahahah rofl was leonardo in your room or...</td>\n",
       "      <td>[hhahhaahahah, rofl, leonardo, room, something]</td>\n",
       "    </tr>\n",
       "    <tr>\n",
       "      <th>2</th>\n",
       "      <td>Oh for  sake she's in like</td>\n",
       "      <td>oh for  sake shes in like</td>\n",
       "      <td>[oh, sake, shes, like]</td>\n",
       "    </tr>\n",
       "    <tr>\n",
       "      <th>3</th>\n",
       "      <td>No da:)he is stupid da..always sending like th...</td>\n",
       "      <td>no dahe is stupid daalways sending like thisdo...</td>\n",
       "      <td>[dahe, stupid, daalways, sending, like, thisdo...</td>\n",
       "    </tr>\n",
       "    <tr>\n",
       "      <th>4</th>\n",
       "      <td>Lul im gettin some juicy gossip at the hospita...</td>\n",
       "      <td>lul im gettin some juicy gossip at the hospita...</td>\n",
       "      <td>[lul, im, gettin, juicy, gossip, hospital, oyea]</td>\n",
       "    </tr>\n",
       "  </tbody>\n",
       "</table>\n",
       "</div>"
      ],
      "text/plain": [
       "                                                 sms  \\\n",
       "0  1. Tension face 2. Smiling face 3. Waste face ...   \n",
       "1  Hhahhaahahah rofl was leonardo in your room or...   \n",
       "2                        Oh for  sake she's in like    \n",
       "3  No da:)he is stupid da..always sending like th...   \n",
       "4  Lul im gettin some juicy gossip at the hospita...   \n",
       "\n",
       "                                       sms_processed  \\\n",
       "0  1 tension face 2 smiling face 3 waste face 4 i...   \n",
       "1  hhahhaahahah rofl was leonardo in your room or...   \n",
       "2                         oh for  sake shes in like    \n",
       "3  no dahe is stupid daalways sending like thisdo...   \n",
       "4  lul im gettin some juicy gossip at the hospita...   \n",
       "\n",
       "                                              tokens  \n",
       "0  [1, tension, face, 2, smiling, face, 3, waste,...  \n",
       "1    [hhahhaahahah, rofl, leonardo, room, something]  \n",
       "2                             [oh, sake, shes, like]  \n",
       "3  [dahe, stupid, daalways, sending, like, thisdo...  \n",
       "4   [lul, im, gettin, juicy, gossip, hospital, oyea]  "
      ]
     },
     "execution_count": 3,
     "metadata": {},
     "output_type": "execute_result"
    }
   ],
   "source": [
    "nltk.download('punkt')\n",
    "nltk.download('stopwords')\n",
    "\n",
    "# Converting everything to lower case\n",
    "sms_data['sms_processed'] = sms_data['sms'].str.lower()\n",
    "\n",
    "# Removing special characters, numbers, and stop words\n",
    "sms_data['sms_processed'] = sms_data['sms_processed'].str.replace('[^\\w\\s]', '', regex=True)\n",
    "\n",
    "# Tokenisation\n",
    "sms_data['tokens'] = sms_data['sms_processed'].apply(word_tokenize)\n",
    "\n",
    "# Removing stopwords\n",
    "stop_words = set(stopwords.words('english'))\n",
    "sms_data['tokens'] = sms_data['tokens'].apply(lambda tokens: [word for word in tokens if word not in stop_words])\n",
    "\n",
    "# Displaying the processed data\n",
    "sms_data[['sms', 'sms_processed', 'tokens']].head()"
   ]
  },
  {
   "cell_type": "markdown",
   "metadata": {},
   "source": [
    "## 2 Exploratory data analysis\n",
    "\n",
    "### 2.1 Balanced / imbalanced data"
   ]
  },
  {
   "cell_type": "code",
   "execution_count": 4,
   "metadata": {},
   "outputs": [
    {
     "data": {
      "text/plain": [
       "(Unnamed: 0          0\n",
       " sms                 0\n",
       " spam                0\n",
       " Unnamed: 3       5302\n",
       " sms_processed       0\n",
       " tokens              0\n",
       " dtype: int64,\n",
       " False    0.868436\n",
       " True     0.131564\n",
       " Name: spam, dtype: float64)"
      ]
     },
     "execution_count": 4,
     "metadata": {},
     "output_type": "execute_result"
    }
   ],
   "source": [
    "# Checking for null values\n",
    "null_check = sms_data.isnull().sum()\n",
    "\n",
    "# Checking balance of the dataset\n",
    "balance_check = sms_data['spam'].value_counts(normalize=True)\n",
    "\n",
    "null_check, balance_check"
   ]
  },
  {
   "cell_type": "markdown",
   "metadata": {},
   "source": [
    "### 2.2 Count Vectorizor"
   ]
  },
  {
   "cell_type": "code",
   "execution_count": 5,
   "metadata": {},
   "outputs": [
    {
     "data": {
      "text/plain": [
       "im      432\n",
       "ur      378\n",
       "just    339\n",
       "ltgt    270\n",
       "dont    268\n",
       "ok      267\n",
       "free    262\n",
       "know    240\n",
       "got     228\n",
       "good    228\n",
       "dtype: int64"
      ]
     },
     "execution_count": 5,
     "metadata": {},
     "output_type": "execute_result"
    }
   ],
   "source": [
    "# Initializing CountVectorizer\n",
    "vectorizer = CountVectorizer(stop_words='english', max_features=1000)\n",
    "\n",
    "# Fitting and transform the joined sms data\n",
    "X = vectorizer.fit_transform(sms_data['sms_processed'])\n",
    "\n",
    "# Converting the result to a DataFrame for easier analysis\n",
    "word_counts = pd.DataFrame(X.toarray(), columns=vectorizer.get_feature_names_out())\n",
    "\n",
    "# Next, let's move to identify the most common words for spam and ham SMS messages\n",
    "# Sum word occurrences to identify the most common words\n",
    "word_sums = word_counts.sum(axis=0).sort_values(ascending=False)\n",
    "\n",
    "word_sums.head(10)"
   ]
  },
  {
   "cell_type": "code",
   "execution_count": 6,
   "metadata": {},
   "outputs": [
    {
     "data": {
      "image/png": "[encoded data removed]",
      "text/plain": [
       "<Figure size 1000x600 with 1 Axes>"
      ]
     },
     "metadata": {},
     "output_type": "display_data"
    }
   ],
   "source": [
    "# Plotting the most common words overall\n",
    "plt.figure(figsize=(10, 6))\n",
    "sns.barplot(x=word_sums.values[:10], y=word_sums.index[:10])\n",
    "plt.title('Top 10 Common Words in SMS Messages')\n",
    "plt.xlabel('Frequency')\n",
    "plt.ylabel('Words')\n",
    "plt.show()"
   ]
  },
  {
   "cell_type": "markdown",
   "metadata": {},
   "source": [
    "### 2.3 Common words for spam and ham"
   ]
  },
  {
   "cell_type": "code",
   "execution_count": 7,
   "metadata": {},
   "outputs": [
    {
     "data": {
      "text/plain": [
       "(free      206\n",
       " ur        141\n",
       " txt       139\n",
       " mobile    121\n",
       " claim     113\n",
       " text      100\n",
       " stop       98\n",
       " reply      94\n",
       " prize      92\n",
       " won        73\n",
       " dtype: int64,\n",
       " im      426\n",
       " just    271\n",
       " ltgt    270\n",
       " ok      263\n",
       " dont    252\n",
       " ur      237\n",
       " ill     227\n",
       " come    224\n",
       " got     223\n",
       " good    216\n",
       " dtype: int64)"
      ]
     },
     "execution_count": 7,
     "metadata": {},
     "output_type": "execute_result"
    }
   ],
   "source": [
    "# Separating the dataset into spam and ham\n",
    "spam_messages = sms_data[sms_data['spam'] == True].index\n",
    "ham_messages= sms_data[sms_data['spam'] == False].index\n",
    "\n",
    "# Calculating word frequencies for spam messages\n",
    "spam_word_counts = word_counts.iloc[spam_messages].sum(axis=0).sort_values(ascending=False)\n",
    "\n",
    "# Calculating word frequencies for ham messages\n",
    "ham_word_counts = word_counts.iloc[ham_messages].sum(axis=0).sort_values(ascending=False)\n",
    "\n",
    "# Displaying the top 10 most common words in spam messages\n",
    "top_spam_words = spam_word_counts.head(10)\n",
    "\n",
    "# Displaying the top 10 most common words in ham messages\n",
    "top_ham_words = ham_word_counts.head(10)\n",
    "\n",
    "top_spam_words, top_ham_words"
   ]
  },
  {
   "cell_type": "code",
   "execution_count": 8,
   "metadata": {},
   "outputs": [
    {
     "data": {
      "image/png": "[encoded data removed]",
      "text/plain": [
       "<Figure size 1000x600 with 1 Axes>"
      ]
     },
     "metadata": {},
     "output_type": "display_data"
    },
    {
     "data": {
      "image/png": "[encoded data removed]",
      "text/plain": [
       "<Figure size 1000x600 with 1 Axes>"
      ]
     },
     "metadata": {},
     "output_type": "display_data"
    }
   ],
   "source": [
    "# Plotting the most common words in spam messages\n",
    "plt.figure(figsize=(10, 6))\n",
    "sns.barplot(x=top_spam_words.values[:10], y=top_spam_words.index[:10])\n",
    "plt.title('Top 10 Common Words in Spam SMS Messages')\n",
    "plt.xlabel('Frequency')\n",
    "plt.ylabel('Words')\n",
    "plt.show()\n",
    "\n",
    "# Plotting the most common words in ham messages\n",
    "plt.figure(figsize=(10, 6))\n",
    "sns.barplot(x=top_ham_words.values[:10], y=top_ham_words.index[:10])\n",
    "plt.title('Top 10 Common Words in Ham SMS Messages')\n",
    "plt.xlabel('Frequency')\n",
    "plt.ylabel('Words')\n",
    "plt.show()"
   ]
  },
  {
   "cell_type": "markdown",
   "metadata": {},
   "source": [
    "## 3 Data Modelling (KNN Classifier)\n",
    "\n",
    "### Model Training"
   ]
  },
  {
   "cell_type": "code",
   "execution_count": 9,
   "metadata": {},
   "outputs": [
    {
     "data": {
      "text/plain": [
       "0    0.5\n",
       "1    0.5\n",
       "Name: spam, dtype: float64"
      ]
     },
     "execution_count": 9,
     "metadata": {},
     "output_type": "execute_result"
    }
   ],
   "source": [
    "# Preparing features and target variable\n",
    "X = sms_data['sms_processed']\n",
    "y = sms_data['spam'].astype(int)  # To ensure that the target is numerical\n",
    "\n",
    "# Splitting the dataset into training and test sets\n",
    "X_train, X_test, y_train, y_test = train_test_split(X, y, test_size=0.2, random_state=42)\n",
    "\n",
    "# Vectorizing the text data\n",
    "vectorizer = CountVectorizer(stop_words='english', max_features=1000)\n",
    "X_train_vect = vectorizer.fit_transform(X_train)\n",
    "X_test_vect = vectorizer.transform(X_test)\n",
    "\n",
    "# Applying SMOTE to balance the training dataset\n",
    "smote = SMOTE(random_state=42)\n",
    "X_train_res, y_train_res = smote.fit_resample(X_train_vect, y_train)\n",
    "\n",
    "# Checking the balance after applying SMOTE\n",
    "balance_after_smote = pd.Series(y_train_res).value_counts(normalize=True)\n",
    "\n",
    "balance_after_smote"
   ]
  },
  {
   "cell_type": "markdown",
   "metadata": {},
   "source": [
    "#### KNN and Hyperparameter tuning"
   ]
  },
  {
   "cell_type": "code",
   "execution_count": 10,
   "metadata": {},
   "outputs": [
    {
     "data": {
      "text/html": [
       "<style>#sk-container-id-1 {color: black;background-color: white;}#sk-container-id-1 pre{padding: 0;}#sk-container-id-1 div.sk-toggleable {background-color: white;}#sk-container-id-1 label.sk-toggleable__label {cursor: pointer;display: block;width: 100%;margin-bottom: 0;padding: 0.3em;box-sizing: border-box;text-align: center;}#sk-container-id-1 label.sk-toggleable__label-arrow:before {content: \"▸\";float: left;margin-right: 0.25em;color: #696969;}#sk-container-id-1 label.sk-toggleable__label-arrow:hover:before {color: black;}#sk-container-id-1 div.sk-estimator:hover label.sk-toggleable__label-arrow:before {color: black;}#sk-container-id-1 div.sk-toggleable__content {max-height: 0;max-width: 0;overflow: hidden;text-align: left;background-color: #f0f8ff;}#sk-container-id-1 div.sk-toggleable__content pre {margin: 0.2em;color: black;border-radius: 0.25em;background-color: #f0f8ff;}#sk-container-id-1 input.sk-toggleable__control:checked~div.sk-toggleable__content {max-height: 200px;max-width: 100%;overflow: auto;}#sk-container-id-1 input.sk-toggleable__control:checked~label.sk-toggleable__label-arrow:before {content: \"▾\";}#sk-container-id-1 div.sk-estimator input.sk-toggleable__control:checked~label.sk-toggleable__label {background-color: #d4ebff;}#sk-container-id-1 div.sk-label input.sk-toggleable__control:checked~label.sk-toggleable__label {background-color: #d4ebff;}#sk-container-id-1 input.sk-hidden--visually {border: 0;clip: rect(1px 1px 1px 1px);clip: rect(1px, 1px, 1px, 1px);height: 1px;margin: -1px;overflow: hidden;padding: 0;position: absolute;width: 1px;}#sk-container-id-1 div.sk-estimator {font-family: monospace;background-color: #f0f8ff;border: 1px dotted black;border-radius: 0.25em;box-sizing: border-box;margin-bottom: 0.5em;}#sk-container-id-1 div.sk-estimator:hover {background-color: #d4ebff;}#sk-container-id-1 div.sk-parallel-item::after {content: \"\";width: 100%;border-bottom: 1px solid gray;flex-grow: 1;}#sk-container-id-1 div.sk-label:hover label.sk-toggleable__label {background-color: #d4ebff;}#sk-container-id-1 div.sk-serial::before {content: \"\";position: absolute;border-left: 1px solid gray;box-sizing: border-box;top: 0;bottom: 0;left: 50%;z-index: 0;}#sk-container-id-1 div.sk-serial {display: flex;flex-direction: column;align-items: center;background-color: white;padding-right: 0.2em;padding-left: 0.2em;position: relative;}#sk-container-id-1 div.sk-item {position: relative;z-index: 1;}#sk-container-id-1 div.sk-parallel {display: flex;align-items: stretch;justify-content: center;background-color: white;position: relative;}#sk-container-id-1 div.sk-item::before, #sk-container-id-1 div.sk-parallel-item::before {content: \"\";position: absolute;border-left: 1px solid gray;box-sizing: border-box;top: 0;bottom: 0;left: 50%;z-index: -1;}#sk-container-id-1 div.sk-parallel-item {display: flex;flex-direction: column;z-index: 1;position: relative;background-color: white;}#sk-container-id-1 div.sk-parallel-item:first-child::after {align-self: flex-end;width: 50%;}#sk-container-id-1 div.sk-parallel-item:last-child::after {align-self: flex-start;width: 50%;}#sk-container-id-1 div.sk-parallel-item:only-child::after {width: 0;}#sk-container-id-1 div.sk-dashed-wrapped {border: 1px dashed gray;margin: 0 0.4em 0.5em 0.4em;box-sizing: border-box;padding-bottom: 0.4em;background-color: white;}#sk-container-id-1 div.sk-label label {font-family: monospace;font-weight: bold;display: inline-block;line-height: 1.2em;}#sk-container-id-1 div.sk-label-container {text-align: center;}#sk-container-id-1 div.sk-container {/* jupyter's `normalize.less` sets `[hidden] { display: none; }` but bootstrap.min.css set `[hidden] { display: none !important; }` so we also need the `!important` here to be able to override the default hidden behavior on the sphinx rendered scikit-learn.org. See: https://github.com/scikit-learn/scikit-learn/issues/21755 */display: inline-block !important;position: relative;}#sk-container-id-1 div.sk-text-repr-fallback {display: none;}</style><div id=\"sk-container-id-1\" class=\"sk-top-container\"><div class=\"sk-text-repr-fallback\"><pre>KNeighborsClassifier()</pre><b>In a Jupyter environment, please rerun this cell to show the HTML representation or trust the notebook. <br />On GitHub, the HTML representation is unable to render, please try loading this page with nbviewer.org.</b></div><div class=\"sk-container\" hidden><div class=\"sk-item\"><div class=\"sk-estimator sk-toggleable\"><input class=\"sk-toggleable__control sk-hidden--visually\" id=\"sk-estimator-id-1\" type=\"checkbox\" checked><label for=\"sk-estimator-id-1\" class=\"sk-toggleable__label sk-toggleable__label-arrow\">KNeighborsClassifier</label><div class=\"sk-toggleable__content\"><pre>KNeighborsClassifier()</pre></div></div></div></div></div>"
      ],
      "text/plain": [
       "KNeighborsClassifier()"
      ]
     },
     "execution_count": 10,
     "metadata": {},
     "output_type": "execute_result"
    }
   ],
   "source": [
    "# Initializing KNN with a starting value for k, e.g., 5\n",
    "knn = KNeighborsClassifier(n_neighbors=5)\n",
    "\n",
    "# Training KNN on the resampled (balanced) training data\n",
    "knn.fit(X_train_res, y_train_res)"
   ]
  },
  {
   "cell_type": "code",
   "execution_count": 11,
   "metadata": {},
   "outputs": [],
   "source": [
    "# Hyperparameter Tuning\n",
    "param_grid = {'n_neighbors': [3, 5, 7, 9, 11], 'metric': ['euclidean', 'manhattan']}\n",
    "grid_search = GridSearchCV(knn, param_grid, cv=5, scoring='accuracy')\n",
    "grid_search.fit(X_train_res, y_train_res)\n",
    "best_knn = grid_search.best_estimator_"
   ]
  },
  {
   "cell_type": "code",
   "execution_count": 12,
   "metadata": {},
   "outputs": [
    {
     "name": "stdout",
     "output_type": "stream",
     "text": [
      "              precision    recall  f1-score   support\n",
      "\n",
      "           0       0.97      0.97      0.97       920\n",
      "           1       0.83      0.79      0.81       151\n",
      "\n",
      "    accuracy                           0.95      1071\n",
      "   macro avg       0.90      0.88      0.89      1071\n",
      "weighted avg       0.95      0.95      0.95      1071\n",
      "\n"
     ]
    }
   ],
   "source": [
    "# Evaluating the best KNN model found by grid search on the test set\n",
    "y_pred = best_knn.predict(X_test_vect)\n",
    "print(classification_report(y_test, y_pred))"
   ]
  },
  {
   "cell_type": "markdown",
   "metadata": {},
   "source": [
    "#### KNN classifier evaluation and metrics"
   ]
  },
  {
   "cell_type": "code",
   "execution_count": 13,
   "metadata": {},
   "outputs": [
    {
     "data": {
      "text/plain": [
       "<sklearn.metrics._plot.confusion_matrix.ConfusionMatrixDisplay at 0x7fa0044ce410>"
      ]
     },
     "execution_count": 13,
     "metadata": {},
     "output_type": "execute_result"
    },
    {
     "data": {
      "image/png": "[encoded data removed]",
      "text/plain": [
       "<Figure size 640x480 with 2 Axes>"
      ]
     },
     "metadata": {},
     "output_type": "display_data"
    }
   ],
   "source": [
    "# Measuring training time\n",
    "start_time = time()\n",
    "knn.fit(X_train_res, y_train_res)  # Training on the resampled (balanced) training data\n",
    "training_time = time() - start_time\n",
    "\n",
    "# Predicting on the test set\n",
    "start_time = time()\n",
    "y_predicted = knn.predict(X_test_vect)\n",
    "prediction_time = time() - start_time\n",
    "prediction_time_per_message = prediction_time / len(y_test)\n",
    "\n",
    "# Creating a DataFrame to store results\n",
    "results = pd.DataFrame()\n",
    "\n",
    "# Confusion Matrix\n",
    "cm = confusion_matrix(y_test, y_predicted, labels=knn.classes_)\n",
    "disp = ConfusionMatrixDisplay(confusion_matrix=cm, display_labels=knn.classes_)\n",
    "disp.plot()"
   ]
  },
  {
   "cell_type": "code",
   "execution_count": 14,
   "metadata": {},
   "outputs": [
    {
     "name": "stdout",
     "output_type": "stream",
     "text": [
      "     accuracy  balanced_accuracy  training_time  prediction_time\n",
      "knn  0.760971           0.838727       0.002342          0.00023\n"
     ]
    }
   ],
   "source": [
    "# Accuracy\n",
    "results.loc['knn', 'accuracy'] = accuracy_score(y_test, y_predicted)\n",
    "\n",
    "# Balanced accuracy\n",
    "results.loc['knn', 'balanced_accuracy'] = balanced_accuracy_score(y_test, y_predicted)\n",
    "\n",
    "# Training time\n",
    "results.loc['knn', 'training_time'] = training_time\n",
    "\n",
    "# Prediction time per message\n",
    "results.loc['knn', 'prediction_time'] = prediction_time_per_message\n",
    "\n",
    "print(results)"
   ]
  },
  {
   "cell_type": "markdown",
   "metadata": {},
   "source": [
    "#### Training and evaluation of KNN (SMOTE)"
   ]
  },
  {
   "cell_type": "code",
   "execution_count": 15,
   "metadata": {},
   "outputs": [
    {
     "name": "stdout",
     "output_type": "stream",
     "text": [
      "Proportion of spam messages in the training set: 0.5\n"
     ]
    }
   ],
   "source": [
    "# Balancing the training set with SMOTE\n",
    "smote = SMOTE(random_state=42)\n",
    "X_train_smote, y_train_smote = smote.fit_resample(X_train_vect, y_train)\n",
    "\n",
    "# Confirming the balancing\n",
    "print(f\"Proportion of spam messages in the training set: {y_train_smote.mean()}\")"
   ]
  },
  {
   "cell_type": "markdown",
   "metadata": {},
   "source": [
    "#### Training of KNN (SMOTE) using hyperparameter tuning"
   ]
  },
  {
   "cell_type": "code",
   "execution_count": 16,
   "metadata": {},
   "outputs": [
    {
     "name": "stdout",
     "output_type": "stream",
     "text": [
      "Best p: 2\n",
      "Best n_neighbors: 1\n"
     ]
    }
   ],
   "source": [
    "# Initializing KNN and set up hyperparameter space for tuning\n",
    "knn = KNeighborsClassifier()\n",
    "param_grid = {\n",
    "    'n_neighbors': [1, 3, 5, 7, 9],\n",
    "    'p': [1, 2]\n",
    "}\n",
    "\n",
    "# Setting up GridSearchCV\n",
    "grid_search = GridSearchCV(knn, param_grid, cv=5, scoring='accuracy')\n",
    "\n",
    "# Training KNN using the balanced dataset\n",
    "grid_search.fit(X_train_smote, y_train_smote)\n",
    "\n",
    "# Extracting best parameters\n",
    "best_params = grid_search.best_estimator_.get_params()\n",
    "print(f\"Best p: {best_params['p']}\")\n",
    "print(f\"Best n_neighbors: {best_params['n_neighbors']}\")"
   ]
  },
  {
   "cell_type": "code",
   "execution_count": 17,
   "metadata": {},
   "outputs": [
    {
     "name": "stdout",
     "output_type": "stream",
     "text": [
      "              precision    recall  f1-score   support\n",
      "\n",
      "           0       0.98      0.98      0.98       920\n",
      "           1       0.88      0.86      0.87       151\n",
      "\n",
      "    accuracy                           0.96      1071\n",
      "   macro avg       0.93      0.92      0.92      1071\n",
      "weighted avg       0.96      0.96      0.96      1071\n",
      "\n"
     ]
    }
   ],
   "source": [
    "# Evaluating the best model found by GridSearchCV on the test set\n",
    "y_predicted = grid_search.predict(X_test_vect) \n",
    "print(classification_report(y_test, y_predicted))"
   ]
  },
  {
   "cell_type": "markdown",
   "metadata": {},
   "source": [
    "#### KNN (SMOTE) classifier evaluation"
   ]
  },
  {
   "cell_type": "code",
   "execution_count": 18,
   "metadata": {},
   "outputs": [
    {
     "data": {
      "text/plain": [
       "<sklearn.metrics._plot.confusion_matrix.ConfusionMatrixDisplay at 0x7f9fea94bbb0>"
      ]
     },
     "execution_count": 18,
     "metadata": {},
     "output_type": "execute_result"
    },
    {
     "data": {
      "image/png": "[encoded data removed]",
      "text/plain": [
       "<Figure size 640x480 with 2 Axes>"
      ]
     },
     "metadata": {},
     "output_type": "display_data"
    }
   ],
   "source": [
    "# Confusion Matrix\n",
    "cm = confusion_matrix(y_test, y_predicted, labels=grid_search.best_estimator_.classes_)\n",
    "disp = ConfusionMatrixDisplay(confusion_matrix=cm, display_labels=grid_search.best_estimator_.classes_)\n",
    "disp.plot()"
   ]
  },
  {
   "cell_type": "code",
   "execution_count": 19,
   "metadata": {},
   "outputs": [
    {
     "name": "stdout",
     "output_type": "stream",
     "text": [
      "Accuracy: 0.9635854341736695\n",
      "Balanced accuracy: 0.9206809674632882\n",
      "Training time (s): 0.0024980831146240237\n",
      "Prediction time per message (s): 0.0004072124105430339\n"
     ]
    }
   ],
   "source": [
    "# Updating results DataFrame with KNN (SMOTE) metrics\n",
    "results.loc['knn_SMOTE', 'accuracy'] = accuracy_score(y_test, y_predicted)\n",
    "results.loc['knn_SMOTE', 'balanced_accuracy'] = balanced_accuracy_score(y_test, y_predicted)\n",
    "\n",
    "# Training and Prediction Time\n",
    "results.loc['knn_SMOTE', 'training_time'] = grid_search.cv_results_['mean_fit_time'].mean()\n",
    "results.loc['knn_SMOTE', 'prediction_time'] = grid_search.cv_results_['mean_score_time'].mean() / len(y_test)\n",
    "\n",
    "# The updated metrics\n",
    "print(\"Accuracy:\", results.loc['knn_SMOTE', 'accuracy'])\n",
    "print(\"Balanced accuracy:\", results.loc['knn_SMOTE', 'balanced_accuracy'])\n",
    "print(\"Training time (s):\", results.loc['knn_SMOTE', 'training_time'])\n",
    "print(\"Prediction time per message (s):\", results.loc['knn_SMOTE', 'prediction_time'])"
   ]
  },
  {
   "cell_type": "markdown",
   "metadata": {},
   "source": [
    "## 4 Data Modelling (Decision Tree Classifier)"
   ]
  },
  {
   "cell_type": "code",
   "execution_count": 20,
   "metadata": {},
   "outputs": [],
   "source": [
    "# Decision Tree classifier\n",
    "dt = DecisionTreeClassifier()\n",
    "\n",
    "# Hyperparameter Tuning\n",
    "\n",
    "# Dictionary of hyperparameters\n",
    "hyperparameters = {\n",
    "    'min_samples_split': [2, 3, 5],\n",
    "    'min_samples_leaf': [5, 10, 20, 50, 100],\n",
    "    'max_depth': [2, 3, 5, 10, 20],\n",
    "    'criterion': ['gini', 'entropy']\n",
    "}"
   ]
  },
  {
   "cell_type": "code",
   "execution_count": 21,
   "metadata": {},
   "outputs": [
    {
     "data": {
      "text/html": [
       "<style>#sk-container-id-2 {color: black;background-color: white;}#sk-container-id-2 pre{padding: 0;}#sk-container-id-2 div.sk-toggleable {background-color: white;}#sk-container-id-2 label.sk-toggleable__label {cursor: pointer;display: block;width: 100%;margin-bottom: 0;padding: 0.3em;box-sizing: border-box;text-align: center;}#sk-container-id-2 label.sk-toggleable__label-arrow:before {content: \"▸\";float: left;margin-right: 0.25em;color: #696969;}#sk-container-id-2 label.sk-toggleable__label-arrow:hover:before {color: black;}#sk-container-id-2 div.sk-estimator:hover label.sk-toggleable__label-arrow:before {color: black;}#sk-container-id-2 div.sk-toggleable__content {max-height: 0;max-width: 0;overflow: hidden;text-align: left;background-color: #f0f8ff;}#sk-container-id-2 div.sk-toggleable__content pre {margin: 0.2em;color: black;border-radius: 0.25em;background-color: #f0f8ff;}#sk-container-id-2 input.sk-toggleable__control:checked~div.sk-toggleable__content {max-height: 200px;max-width: 100%;overflow: auto;}#sk-container-id-2 input.sk-toggleable__control:checked~label.sk-toggleable__label-arrow:before {content: \"▾\";}#sk-container-id-2 div.sk-estimator input.sk-toggleable__control:checked~label.sk-toggleable__label {background-color: #d4ebff;}#sk-container-id-2 div.sk-label input.sk-toggleable__control:checked~label.sk-toggleable__label {background-color: #d4ebff;}#sk-container-id-2 input.sk-hidden--visually {border: 0;clip: rect(1px 1px 1px 1px);clip: rect(1px, 1px, 1px, 1px);height: 1px;margin: -1px;overflow: hidden;padding: 0;position: absolute;width: 1px;}#sk-container-id-2 div.sk-estimator {font-family: monospace;background-color: #f0f8ff;border: 1px dotted black;border-radius: 0.25em;box-sizing: border-box;margin-bottom: 0.5em;}#sk-container-id-2 div.sk-estimator:hover {background-color: #d4ebff;}#sk-container-id-2 div.sk-parallel-item::after {content: \"\";width: 100%;border-bottom: 1px solid gray;flex-grow: 1;}#sk-container-id-2 div.sk-label:hover label.sk-toggleable__label {background-color: #d4ebff;}#sk-container-id-2 div.sk-serial::before {content: \"\";position: absolute;border-left: 1px solid gray;box-sizing: border-box;top: 0;bottom: 0;left: 50%;z-index: 0;}#sk-container-id-2 div.sk-serial {display: flex;flex-direction: column;align-items: center;background-color: white;padding-right: 0.2em;padding-left: 0.2em;position: relative;}#sk-container-id-2 div.sk-item {position: relative;z-index: 1;}#sk-container-id-2 div.sk-parallel {display: flex;align-items: stretch;justify-content: center;background-color: white;position: relative;}#sk-container-id-2 div.sk-item::before, #sk-container-id-2 div.sk-parallel-item::before {content: \"\";position: absolute;border-left: 1px solid gray;box-sizing: border-box;top: 0;bottom: 0;left: 50%;z-index: -1;}#sk-container-id-2 div.sk-parallel-item {display: flex;flex-direction: column;z-index: 1;position: relative;background-color: white;}#sk-container-id-2 div.sk-parallel-item:first-child::after {align-self: flex-end;width: 50%;}#sk-container-id-2 div.sk-parallel-item:last-child::after {align-self: flex-start;width: 50%;}#sk-container-id-2 div.sk-parallel-item:only-child::after {width: 0;}#sk-container-id-2 div.sk-dashed-wrapped {border: 1px dashed gray;margin: 0 0.4em 0.5em 0.4em;box-sizing: border-box;padding-bottom: 0.4em;background-color: white;}#sk-container-id-2 div.sk-label label {font-family: monospace;font-weight: bold;display: inline-block;line-height: 1.2em;}#sk-container-id-2 div.sk-label-container {text-align: center;}#sk-container-id-2 div.sk-container {/* jupyter's `normalize.less` sets `[hidden] { display: none; }` but bootstrap.min.css set `[hidden] { display: none !important; }` so we also need the `!important` here to be able to override the default hidden behavior on the sphinx rendered scikit-learn.org. See: https://github.com/scikit-learn/scikit-learn/issues/21755 */display: inline-block !important;position: relative;}#sk-container-id-2 div.sk-text-repr-fallback {display: none;}</style><div id=\"sk-container-id-2\" class=\"sk-top-container\"><div class=\"sk-text-repr-fallback\"><pre>GridSearchCV(cv=5, estimator=DecisionTreeClassifier(),\n",
       "             param_grid={&#x27;criterion&#x27;: [&#x27;gini&#x27;, &#x27;entropy&#x27;],\n",
       "                         &#x27;max_depth&#x27;: [2, 3, 5, 10, 20],\n",
       "                         &#x27;min_samples_leaf&#x27;: [5, 10, 20, 50, 100],\n",
       "                         &#x27;min_samples_split&#x27;: [2, 3, 5]},\n",
       "             scoring=&#x27;accuracy&#x27;)</pre><b>In a Jupyter environment, please rerun this cell to show the HTML representation or trust the notebook. <br />On GitHub, the HTML representation is unable to render, please try loading this page with nbviewer.org.</b></div><div class=\"sk-container\" hidden><div class=\"sk-item sk-dashed-wrapped\"><div class=\"sk-label-container\"><div class=\"sk-label sk-toggleable\"><input class=\"sk-toggleable__control sk-hidden--visually\" id=\"sk-estimator-id-2\" type=\"checkbox\" ><label for=\"sk-estimator-id-2\" class=\"sk-toggleable__label sk-toggleable__label-arrow\">GridSearchCV</label><div class=\"sk-toggleable__content\"><pre>GridSearchCV(cv=5, estimator=DecisionTreeClassifier(),\n",
       "             param_grid={&#x27;criterion&#x27;: [&#x27;gini&#x27;, &#x27;entropy&#x27;],\n",
       "                         &#x27;max_depth&#x27;: [2, 3, 5, 10, 20],\n",
       "                         &#x27;min_samples_leaf&#x27;: [5, 10, 20, 50, 100],\n",
       "                         &#x27;min_samples_split&#x27;: [2, 3, 5]},\n",
       "             scoring=&#x27;accuracy&#x27;)</pre></div></div></div><div class=\"sk-parallel\"><div class=\"sk-parallel-item\"><div class=\"sk-item\"><div class=\"sk-label-container\"><div class=\"sk-label sk-toggleable\"><input class=\"sk-toggleable__control sk-hidden--visually\" id=\"sk-estimator-id-3\" type=\"checkbox\" ><label for=\"sk-estimator-id-3\" class=\"sk-toggleable__label sk-toggleable__label-arrow\">estimator: DecisionTreeClassifier</label><div class=\"sk-toggleable__content\"><pre>DecisionTreeClassifier()</pre></div></div></div><div class=\"sk-serial\"><div class=\"sk-item\"><div class=\"sk-estimator sk-toggleable\"><input class=\"sk-toggleable__control sk-hidden--visually\" id=\"sk-estimator-id-4\" type=\"checkbox\" ><label for=\"sk-estimator-id-4\" class=\"sk-toggleable__label sk-toggleable__label-arrow\">DecisionTreeClassifier</label><div class=\"sk-toggleable__content\"><pre>DecisionTreeClassifier()</pre></div></div></div></div></div></div></div></div></div></div>"
      ],
      "text/plain": [
       "GridSearchCV(cv=5, estimator=DecisionTreeClassifier(),\n",
       "             param_grid={'criterion': ['gini', 'entropy'],\n",
       "                         'max_depth': [2, 3, 5, 10, 20],\n",
       "                         'min_samples_leaf': [5, 10, 20, 50, 100],\n",
       "                         'min_samples_split': [2, 3, 5]},\n",
       "             scoring='accuracy')"
      ]
     },
     "execution_count": 21,
     "metadata": {},
     "output_type": "execute_result"
    }
   ],
   "source": [
    "# Applying grid search with cross-validation\n",
    "dt_grid_search = GridSearchCV(dt, hyperparameters, scoring='accuracy', cv=5)\n",
    "\n",
    "dt_grid_search"
   ]
  },
  {
   "cell_type": "markdown",
   "metadata": {},
   "source": [
    "#### Training and Evaluating (Without SMOTE)"
   ]
  },
  {
   "cell_type": "code",
   "execution_count": 22,
   "metadata": {},
   "outputs": [
    {
     "name": "stdout",
     "output_type": "stream",
     "text": [
      "Best max_depth: 20\n",
      "Best min_samples_leaf: 5\n",
      "Best criterion: gini\n"
     ]
    }
   ],
   "source": [
    "# Training on the original (non-SMOTE) training set\n",
    "dt_grid_search.fit(X_train_vect, y_train) \n",
    "\n",
    "# Best hyperparameters\n",
    "print('Best max_depth:', dt_grid_search.best_estimator_.get_params()['max_depth'])\n",
    "print('Best min_samples_leaf:', dt_grid_search.best_estimator_.get_params()['min_samples_leaf'])\n",
    "print('Best criterion:', dt_grid_search.best_estimator_.get_params()['criterion'])"
   ]
  },
  {
   "cell_type": "code",
   "execution_count": 23,
   "metadata": {
    "scrolled": true
   },
   "outputs": [
    {
     "data": {
      "text/plain": [
       "<sklearn.metrics._plot.confusion_matrix.ConfusionMatrixDisplay at 0x7f9fe8d13580>"
      ]
     },
     "execution_count": 23,
     "metadata": {},
     "output_type": "execute_result"
    },
    {
     "data": {
      "image/png": "[encoded data removed]",
      "text/plain": [
       "<Figure size 640x480 with 2 Axes>"
      ]
     },
     "metadata": {},
     "output_type": "display_data"
    }
   ],
   "source": [
    "# Predicting on the test set\n",
    "y_predicted_dt = dt_grid_search.predict(X_test_vect) \n",
    "\n",
    "# Evaluation metrics\n",
    "cm_dt = confusion_matrix(y_test, y_predicted_dt, labels=dt_grid_search.best_estimator_.classes_)\n",
    "disp_dt = ConfusionMatrixDisplay(confusion_matrix=cm_dt, display_labels=dt_grid_search.best_estimator_.classes_)\n",
    "disp_dt.plot()"
   ]
  },
  {
   "cell_type": "code",
   "execution_count": 24,
   "metadata": {},
   "outputs": [
    {
     "name": "stdout",
     "output_type": "stream",
     "text": [
      "Accuracy (DT): 0.954248366013072\n",
      "Balanced accuracy (DT): 0.85989058450907\n",
      "Training time (DT): 0.007242819150288901\n",
      "Prediction time per message (DT): 1.3104111392142579e-06\n"
     ]
    }
   ],
   "source": [
    "# Storing results\n",
    "results.loc['dt', 'accuracy'] = accuracy_score(y_test, y_predicted_dt)\n",
    "results.loc['dt', 'balanced_accuracy'] = balanced_accuracy_score(y_test, y_predicted_dt)\n",
    "results.loc['dt', 'training_time'] = dt_grid_search.cv_results_['mean_fit_time'].mean()\n",
    "results.loc['dt', 'prediction_time'] = dt_grid_search.cv_results_['mean_score_time'].mean() / len(y_test)\n",
    "\n",
    "print(\"Accuracy (DT):\", results.loc['dt', 'accuracy'])\n",
    "print(\"Balanced accuracy (DT):\", results.loc['dt', 'balanced_accuracy'])\n",
    "print(\"Training time (DT):\", results.loc['dt', 'training_time'])\n",
    "print(\"Prediction time per message (DT):\", results.loc['dt', 'prediction_time'])"
   ]
  },
  {
   "cell_type": "markdown",
   "metadata": {},
   "source": [
    "#### Training and Evaluation (using SMOTE)"
   ]
  },
  {
   "cell_type": "code",
   "execution_count": 25,
   "metadata": {},
   "outputs": [
    {
     "name": "stdout",
     "output_type": "stream",
     "text": [
      "Best max_depth (SMOTE): 20\n",
      "Best min_samples_leaf (SMOTE): 5\n",
      "Best criterion (SMOTE): gini\n"
     ]
    }
   ],
   "source": [
    "smote = SMOTE()\n",
    "X_train_smote, y_train_smote = smote.fit_resample(X_train_vect, y_train)\n",
    "\n",
    "# Re-training with the balanced dataset\n",
    "dt_grid_search.fit(X_train_smote, y_train_smote)\n",
    "\n",
    "# Best hyperparameters\n",
    "print('Best max_depth (SMOTE):', dt_grid_search.best_estimator_.get_params()['max_depth'])\n",
    "print('Best min_samples_leaf (SMOTE):', dt_grid_search.best_estimator_.get_params()['min_samples_leaf'])\n",
    "print('Best criterion (SMOTE):', dt_grid_search.best_estimator_.get_params()['criterion'])"
   ]
  },
  {
   "cell_type": "code",
   "execution_count": 26,
   "metadata": {},
   "outputs": [
    {
     "data": {
      "text/plain": [
       "<sklearn.metrics._plot.confusion_matrix.ConfusionMatrixDisplay at 0x7f9fe9043790>"
      ]
     },
     "execution_count": 26,
     "metadata": {},
     "output_type": "execute_result"
    },
    {
     "data": {
      "image/png": "[encoded data removed]",
      "text/plain": [
       "<Figure size 640x480 with 2 Axes>"
      ]
     },
     "metadata": {},
     "output_type": "display_data"
    }
   ],
   "source": [
    "# Predicting on the test set\n",
    "y_predicted_dt_smote = dt_grid_search.predict(X_test_vect)\n",
    "\n",
    "# Evaluation metrics (SMOTE)\n",
    "cm_dt_smote = confusion_matrix(y_test, y_predicted_dt_smote, labels=dt_grid_search.best_estimator_.classes_)\n",
    "disp_dt_smote = ConfusionMatrixDisplay(confusion_matrix=cm_dt_smote, display_labels=dt_grid_search.best_estimator_.classes_)\n",
    "disp_dt_smote.plot()"
   ]
  },
  {
   "cell_type": "code",
   "execution_count": 27,
   "metadata": {},
   "outputs": [
    {
     "name": "stdout",
     "output_type": "stream",
     "text": [
      "Accuracy (DT with SMOTE): 0.9411764705882353\n",
      "Balanced accuracy (DT with SMOTE): 0.8329074287359632\n",
      "Training time (DT with SMOTE): 0.011976265907287597\n",
      "Prediction time per message (DT with SMOTE): 1.5094945855946547e-06\n"
     ]
    }
   ],
   "source": [
    "# Storing results (SMOTE)\n",
    "results.loc['dt_SMOTE', 'accuracy'] = accuracy_score(y_test, y_predicted_dt_smote)\n",
    "results.loc['dt_SMOTE', 'balanced_accuracy'] = balanced_accuracy_score(y_test, y_predicted_dt_smote)\n",
    "results.loc['dt_SMOTE', 'training_time'] = dt_grid_search.cv_results_['mean_fit_time'].mean()\n",
    "results.loc['dt_SMOTE', 'prediction_time'] = dt_grid_search.cv_results_['mean_score_time'].mean() / len(y_test)\n",
    "\n",
    "print(\"Accuracy (DT with SMOTE):\", results.loc['dt_SMOTE', 'accuracy'])\n",
    "print(\"Balanced accuracy (DT with SMOTE):\", results.loc['dt_SMOTE', 'balanced_accuracy'])\n",
    "print(\"Training time (DT with SMOTE):\", results.loc['dt_SMOTE', 'training_time'])\n",
    "print(\"Prediction time per message (DT with SMOTE):\", results.loc['dt_SMOTE', 'prediction_time'])"
   ]
  },
  {
   "cell_type": "markdown",
   "metadata": {},
   "source": [
    "## 5 Results of the classifiers"
   ]
  },
  {
   "cell_type": "code",
   "execution_count": 28,
   "metadata": {},
   "outputs": [
    {
     "data": {
      "text/html": [
       "<div>\n",
       "<style scoped>\n",
       "    .dataframe tbody tr th:only-of-type {\n",
       "        vertical-align: middle;\n",
       "    }\n",
       "\n",
       "    .dataframe tbody tr th {\n",
       "        vertical-align: top;\n",
       "    }\n",
       "\n",
       "    .dataframe thead th {\n",
       "        text-align: right;\n",
       "    }\n",
       "</style>\n",
       "<table border=\"1\" class=\"dataframe\">\n",
       "  <thead>\n",
       "    <tr style=\"text-align: right;\">\n",
       "      <th></th>\n",
       "      <th>accuracy</th>\n",
       "      <th>balanced_accuracy</th>\n",
       "      <th>training_time</th>\n",
       "      <th>prediction_time</th>\n",
       "    </tr>\n",
       "  </thead>\n",
       "  <tbody>\n",
       "    <tr>\n",
       "      <th>knn</th>\n",
       "      <td>0.760971</td>\n",
       "      <td>0.838727</td>\n",
       "      <td>0.002342</td>\n",
       "      <td>0.000230</td>\n",
       "    </tr>\n",
       "    <tr>\n",
       "      <th>knn_SMOTE</th>\n",
       "      <td>0.963585</td>\n",
       "      <td>0.920681</td>\n",
       "      <td>0.002498</td>\n",
       "      <td>0.000407</td>\n",
       "    </tr>\n",
       "    <tr>\n",
       "      <th>dt</th>\n",
       "      <td>0.954248</td>\n",
       "      <td>0.859891</td>\n",
       "      <td>0.007243</td>\n",
       "      <td>0.000001</td>\n",
       "    </tr>\n",
       "    <tr>\n",
       "      <th>dt_SMOTE</th>\n",
       "      <td>0.941176</td>\n",
       "      <td>0.832907</td>\n",
       "      <td>0.011976</td>\n",
       "      <td>0.000002</td>\n",
       "    </tr>\n",
       "  </tbody>\n",
       "</table>\n",
       "</div>"
      ],
      "text/plain": [
       "           accuracy  balanced_accuracy  training_time  prediction_time\n",
       "knn        0.760971           0.838727       0.002342         0.000230\n",
       "knn_SMOTE  0.963585           0.920681       0.002498         0.000407\n",
       "dt         0.954248           0.859891       0.007243         0.000001\n",
       "dt_SMOTE   0.941176           0.832907       0.011976         0.000002"
      ]
     },
     "execution_count": 28,
     "metadata": {},
     "output_type": "execute_result"
    }
   ],
   "source": [
    "results"
   ]
  },
  {
   "cell_type": "markdown",
   "metadata": {},
   "source": [
    "#### Accuracy and balanced accuracy"
   ]
  },
  {
   "cell_type": "code",
   "execution_count": 29,
   "metadata": {},
   "outputs": [
    {
     "data": {
      "text/plain": [
       "<Axes: >"
      ]
     },
     "execution_count": 29,
     "metadata": {},
     "output_type": "execute_result"
    },
    {
     "data": {
      "image/png": "[encoded data removed]",
      "text/plain": [
       "<Figure size 640x480 with 1 Axes>"
      ]
     },
     "metadata": {},
     "output_type": "display_data"
    }
   ],
   "source": [
    "results[['accuracy','balanced_accuracy']].plot(kind=\"bar\")"
   ]
  },
  {
   "cell_type": "markdown",
   "metadata": {},
   "source": [
    "#### Training time (in seconds)"
   ]
  },
  {
   "cell_type": "code",
   "execution_count": 30,
   "metadata": {},
   "outputs": [
    {
     "data": {
      "text/plain": [
       "<Axes: >"
      ]
     },
     "execution_count": 30,
     "metadata": {},
     "output_type": "execute_result"
    },
    {
     "data": {
      "image/png": "[encoded data removed]",
      "text/plain": [
       "<Figure size 640x480 with 1 Axes>"
      ]
     },
     "metadata": {},
     "output_type": "display_data"
    }
   ],
   "source": [
    "results['training_time'].plot(kind=\"bar\") "
   ]
  },
  {
   "cell_type": "markdown",
   "metadata": {},
   "source": [
    "#### Prediction time (in seconds) per message"
   ]
  },
  {
   "cell_type": "code",
   "execution_count": 31,
   "metadata": {},
   "outputs": [
    {
     "data": {
      "text/plain": [
       "<Axes: >"
      ]
     },
     "execution_count": 31,
     "metadata": {},
     "output_type": "execute_result"
    },
    {
     "data": {
      "image/png": "[encoded data removed]",
      "text/plain": [
       "<Figure size 640x480 with 1 Axes>"
      ]
     },
     "metadata": {},
     "output_type": "display_data"
    }
   ],
   "source": [
    "results['prediction_time'].plot(kind=\"bar\")"
   ]
  }
 ],
 "metadata": {
  "kernelspec": {
   "display_name": "Python 3 (ipykernel)",
   "language": "python",
   "name": "python3"
  },
  "language_info": {
   "codemirror_mode": {
    "name": "ipython",
    "version": 3
   },
   "file_extension": ".py",
   "mimetype": "text/x-python",
   "name": "python",
   "nbconvert_exporter": "python",
   "pygments_lexer": "ipython3",
   "version": "3.10.9"
  }
 },
 "nbformat": 4,
 "nbformat_minor": 2
}
